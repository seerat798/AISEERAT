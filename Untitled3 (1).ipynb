{
  "nbformat": 4,
  "nbformat_minor": 0,
  "metadata": {
    "colab": {
      "provenance": []
    },
    "kernelspec": {
      "name": "python3",
      "display_name": "Python 3"
    },
    "language_info": {
      "name": "python"
    }
  },
  "cells": [
    {
      "cell_type": "code",
      "execution_count": null,
      "metadata": {
        "colab": {
          "base_uri": "https://localhost:8080/",
          "height": 132
        },
        "id": "P7WX7T0DYf1J",
        "outputId": "6beff8de-22da-430d-820b-3d54a2342969"
      },
      "outputs": [
        {
          "output_type": "error",
          "ename": "IndentationError",
          "evalue": "ignored",
          "traceback": [
            "\u001b[0;36m  File \u001b[0;32m\"<ipython-input-3-8dab6abe895a>\"\u001b[0;36m, line \u001b[0;32m4\u001b[0m\n\u001b[0;31m    while currentparent != None:\u001b[0m\n\u001b[0m    ^\u001b[0m\n\u001b[0;31mIndentationError\u001b[0m\u001b[0;31m:\u001b[0m unexpected indent\n"
          ]
        }
      ],
      "source": [
        "def actionSequence(graph,initialstate,goalstate):\n",
        "  solution = [goalstate]\n",
        "  currentparent = graph[goalstate].parent\n",
        "   \n",
        "   while currentparent != None:\n",
        "    \n",
        "    solution.append(currentparent)\n",
        "    currentparent = graph[currentparent].parent\n",
        "\n",
        "  solution.reverse()\n",
        "  return solution\n",
        "\n",
        "def bfs(initialstate,goalstate):\n",
        "  graph = {'A': node('A',None,['B','C','E'],None),\n",
        "           'B': node('B',None,['A','D','E'],None),\n",
        "           'C': node('C',None,['A','F','G'],None),\n",
        "           'D': node('D',None,['B','E'],None),\n",
        "           'E': node('E',None,['A','B','D'],None),\n",
        "           'F': node('F',None,['C'],None),\n",
        "           'G': node('G',None,['C'],None)\n",
        "          }\n",
        "  frontier = [initialstate]\n",
        "  explored = []\n",
        "  while frontier:\n",
        "    currentnode = frontier.pop(0)\n",
        "    explored.append(currentnode)\n",
        "    for child in graph[currentnode].actions:\n",
        "      if child not in frontier and child not in explored:\n",
        "        graph[child].parent = currentnode\n",
        "        if graph[child].state == goalstate:\n",
        "          return actionSequence(graph,initialstate,goalstate)\n",
        "        frontier.append(child)\n",
        "solution = bfs('D','C')\n",
        "print(solution)"
      ]
    },
    {
      "cell_type": "code",
      "source": [
        "def DFS():\n",
        "    initialstate = 'A'\n",
        "    goalstate = 'D'\n",
        " graph = {\n",
        "        'A': Node('A', None, ['B', 'E', 'C', None], None),\n",
        "        'B': Node('B', None, ['D', 'E', 'A', None], None),\n",
        "        'C': Node('C', None, ['A', 'F', 'G'], None),\n",
        "        'D': Node('D', None, ['B', 'E'], None),\n",
        "        'E': Node('E', None, ['A', 'B', 'D'], None),\n",
        "        'F': Node('F', None, ['C'], None),\n",
        "        'G': Node('G', None, ['C'], None)\n",
        "    }\n",
        "\n",
        "    frontier = [initialstate]\n",
        "    explored = []\n",
        "\n",
        "    while len(frontier) != 0:\n",
        "        currentNode = frontier.pop(len(frontier) - 1)\n",
        "        explored.append(currentNode)\n",
        "        print(currentNode)\n",
        "\n",
        "        for child in graph[currentNode].actions:\n",
        "            if child is not None and child not in frontier and child not in explored:\n",
        "                graph[child].parent = currentNode\n",
        "                if graph[child].state == goalstate:\n",
        "                    print(explored)\n",
        "                    return actionsequence(graph, initialstate, goalstate)\n",
        "                frontier.append(child)\n",
        "    return None\n",
        "\n",
        "\n",
        "def actionsequence(graph, initialstate, goalstate):\n",
        "    solution = [goalstate]\n",
        "    currentparent = graph[goalstate].parent\n",
        "    while currentparent is not None:\n",
        "        solution.append(currentparent)\n",
        "        currentparent = graph[currentparent].parent\n",
        "    solution.reverse()\n",
        "    return solution\n",
        "\n",
        "\n",
        "solution = DFS()\n",
        "print(solution)"
      ],
      "metadata": {
        "colab": {
          "base_uri": "https://localhost:8080/",
          "height": 132
        },
        "id": "MD3qEdabY7tQ",
        "outputId": "69bb0728-d951-4127-b2ed-f35f957e5022"
      },
      "execution_count": null,
      "outputs": [
        {
          "output_type": "error",
          "ename": "IndentationError",
          "evalue": "ignored",
          "traceback": [
            "\u001b[0;36m  File \u001b[0;32m\"<tokenize>\"\u001b[0;36m, line \u001b[0;32m4\u001b[0m\n\u001b[0;31m    graph = {\u001b[0m\n\u001b[0m    ^\u001b[0m\n\u001b[0;31mIndentationError\u001b[0m\u001b[0;31m:\u001b[0m unindent does not match any outer indentation level\n"
          ]
        }
      ]
    },
    {
      "cell_type": "code",
      "source": [
        "from queue import PriorityQueue\n",
        "\n",
        "# Define the tree as a dictionary of dictionaries\n",
        "tree = {'A': {'B': 1, 'C': 3},\n",
        "        'B': {'D': 2, 'E': 1},\n",
        "        'C': {'F': 4},\n",
        "        'D': {},\n",
        "        'E': {'G': 3},\n",
        "        'F': {},\n",
        "        'G': {}}\n",
        "\n",
        "def uniform_cost_search(tree, start, goal):\n",
        "    frontier = PriorityQueue()\n",
        "    frontier.put((0, start))\n",
        "    explored = []\n",
        "    path = {}\n",
        "    path[start] = None\n",
        "\n",
        "    while not frontier.empty():\n",
        "        cost, current_node = frontier.get()\n",
        "        explored.append(current_node)\n",
        "\n",
        "        if current_node == goal:\n",
        "            final_path = []\n",
        "            while current_node in path:\n",
        "                final_path.append(current_node)\n",
        "                current_node = path[current_node]\n",
        "            final_path.reverse()\n",
        "            return final_path\n",
        "\n",
        "        for neighbor, neighbor_cost in tree[current_node].items():\n",
        "            if neighbor not in explored:\n",
        "                new_cost = cost + neighbor_cost\n",
        "                if neighbor not in [node[1] for node in frontier.queue]:\n",
        "                    frontier.put((new_cost, neighbor))\n",
        "                    path[neighbor] = current_node\n",
        "                elif new_cost < [node[0] for node in frontier.queue if node[1] == neighbor][0]:\n",
        "                    frontier.get([node for node in frontier.queue if node[1] == neighbor][0])\n",
        "                    frontier.put((new_cost, neighbor))\n",
        "                    path[neighbor] = current_node\n",
        "\n",
        "    return None\n",
        "\n",
        "# Test the uniform cost search algorithm\n",
        "start_node = 'C'\n",
        "goal_node = 'B'\n",
        "result_path = uniform_cost_search(tree, start_node, goal_node)\n",
        "\n",
        "if result_path:\n",
        "    print(\"The minimum cost path from\", start_node, \"to\", goal_node, \"is:\")\n",
        "    print(result_path)\n",
        "    print(\"The total cost is:\", sum(tree[result_path[i]][result_path[i+1]] for i in range(len(result_path)-1)))\n",
        "else:\n",
        "    print(\"Goal not reachable from the starting node\")"
      ],
      "metadata": {
        "colab": {
          "base_uri": "https://localhost:8080/"
        },
        "id": "hOvJh9uZaLpu",
        "outputId": "54a92cdf-1834-4005-956a-f880dc76b48d"
      },
      "execution_count": null,
      "outputs": [
        {
          "output_type": "stream",
          "name": "stdout",
          "text": [
            "Goal not reachable from the starting node\n"
          ]
        }
      ]
    },
    {
      "cell_type": "code",
      "source": [
        "class Node:\n",
        "  def _init_(self,state,parent,actions,totalcost):\n",
        "    self.state=state\n",
        "    self.parent=parent\n",
        "    self.actions=actions\n",
        "    self.totalcost=totalcost\n",
        "graph={'arad':Node('arad',None,['zernid','timisoara','sibiu'],None),\n",
        "       'timisoara':Node('timisoara',None,['lugoj','arad'],None),\n",
        "       'zernid':Node('zernid',None,['arad','oradea'],None),\n",
        "       'sibiu':Node('sibiu',None,['arad','oradea','fagaras','rimnicu vilcea'],None),\n",
        "       'lugoj':Node('lugoj',None,['mehadia','timisoara'],None),\n",
        "       'oradea':Node('oradea',None,['zernid','sibiu'],None),\n",
        "       'mehadia':Node('mehadia',None,['lugoj','drobeta'],None),\n",
        "       'drobeta':Node('drobeta',None,['mehadia','craiova'],None),\n",
        "       'craiova':Node('craiova',None,['drobeta','pitesti','rimnicu vilcea'],None),\n",
        "       'rimnicu vilcea':Node('rimnicu vilcea',None,['craiova','pitesti','sibiu'],None),\n",
        "       'pitesti':Node('pitesti',None,['craiova','rimnicu vilcea','bucharest'],None),\n",
        "       'fagaras':Node('fagaras',None,['sibiu','bucharest'],None),\n",
        "       'bucharest':Node('bucharest',None,['fagaras','pitesti','giurgiu','urziceni'],None),\n",
        "       'giurgiu':Node('giurgiu',None,['bucharest'],None),\n",
        "       'urziceni':Node('urziceni',None,['bucharest','hirsova','vaslui'],None),\n",
        "       'hirsova':Node('hirsova',None,['urziceni','eforie'],None),\n",
        "       'eforie':Node('eforie',None,['hirsova'],None),\n",
        "       'vaslui':Node('vaslui',None,['urziceni','lasi'],None),\n",
        "       'lasi':Node('lasi',None,['vaslui','neamt'],None),\n",
        "       'neamt':Node('neamt',None,['lasi'],None),\n",
        "\n",
        "}\n",
        " \n",
        "def actionsequence(graph, initialstate,goalstate):\n",
        "  solution=[goalstate]\n",
        "  currentparent = graph[goalstate].parent\n",
        "  while currentparent != None:\n",
        "    solution.append(currentparent)\n",
        "    currentparent = graph[currentparent].parent\n",
        "  solution.reverse()\n",
        "  print(solution)\n",
        "  return solution\n",
        "\n",
        "def DFS():\n",
        "  initialstate = 'arad'\n",
        "  goalstate = 'bucharest'\n",
        "  frontier = [initialstate]\n",
        "  explored = []\n",
        "\n",
        "  while len(frontier)!=0:\n",
        "    currentNode = frontier.pop(0)\n",
        "    explored.append(currentNode)\n",
        "    for child in graph[currentNode].actions:\n",
        "      if child not in frontier and child not in explored:\n",
        "        graph[child].parent = currentNode\n",
        "        if graph[child].state == goalstate:\n",
        "          return actionsequence(graph,initialstate,goalstate)\n",
        "        frontier.append(child)\n",
        "solution = DFS()"
      ],
      "metadata": {
        "colab": {
          "base_uri": "https://localhost:8080/",
          "height": 236
        },
        "id": "QsCAS_XebXnJ",
        "outputId": "d6ed9bfe-9673-4d63-8b59-1d117dc05e78"
      },
      "execution_count": null,
      "outputs": [
        {
          "output_type": "error",
          "ename": "TypeError",
          "evalue": "ignored",
          "traceback": [
            "\u001b[0;31m---------------------------------------------------------------------------\u001b[0m",
            "\u001b[0;31mTypeError\u001b[0m                                 Traceback (most recent call last)",
            "\u001b[0;32m<ipython-input-8-3e884b5adb26>\u001b[0m in \u001b[0;36m<cell line: 7>\u001b[0;34m()\u001b[0m\n\u001b[1;32m      5\u001b[0m     \u001b[0mself\u001b[0m\u001b[0;34m.\u001b[0m\u001b[0mactions\u001b[0m\u001b[0;34m=\u001b[0m\u001b[0mactions\u001b[0m\u001b[0;34m\u001b[0m\u001b[0;34m\u001b[0m\u001b[0m\n\u001b[1;32m      6\u001b[0m     \u001b[0mself\u001b[0m\u001b[0;34m.\u001b[0m\u001b[0mtotalcost\u001b[0m\u001b[0;34m=\u001b[0m\u001b[0mtotalcost\u001b[0m\u001b[0;34m\u001b[0m\u001b[0;34m\u001b[0m\u001b[0m\n\u001b[0;32m----> 7\u001b[0;31m graph={'arad':Node('arad',None,['zernid','timisoara','sibiu'],None),\n\u001b[0m\u001b[1;32m      8\u001b[0m        \u001b[0;34m'timisoara'\u001b[0m\u001b[0;34m:\u001b[0m\u001b[0mNode\u001b[0m\u001b[0;34m(\u001b[0m\u001b[0;34m'timisoara'\u001b[0m\u001b[0;34m,\u001b[0m\u001b[0;32mNone\u001b[0m\u001b[0;34m,\u001b[0m\u001b[0;34m[\u001b[0m\u001b[0;34m'lugoj'\u001b[0m\u001b[0;34m,\u001b[0m\u001b[0;34m'arad'\u001b[0m\u001b[0;34m]\u001b[0m\u001b[0;34m,\u001b[0m\u001b[0;32mNone\u001b[0m\u001b[0;34m)\u001b[0m\u001b[0;34m,\u001b[0m\u001b[0;34m\u001b[0m\u001b[0;34m\u001b[0m\u001b[0m\n\u001b[1;32m      9\u001b[0m        \u001b[0;34m'zernid'\u001b[0m\u001b[0;34m:\u001b[0m\u001b[0mNode\u001b[0m\u001b[0;34m(\u001b[0m\u001b[0;34m'zernid'\u001b[0m\u001b[0;34m,\u001b[0m\u001b[0;32mNone\u001b[0m\u001b[0;34m,\u001b[0m\u001b[0;34m[\u001b[0m\u001b[0;34m'arad'\u001b[0m\u001b[0;34m,\u001b[0m\u001b[0;34m'oradea'\u001b[0m\u001b[0;34m]\u001b[0m\u001b[0;34m,\u001b[0m\u001b[0;32mNone\u001b[0m\u001b[0;34m)\u001b[0m\u001b[0;34m,\u001b[0m\u001b[0;34m\u001b[0m\u001b[0;34m\u001b[0m\u001b[0m\n",
            "\u001b[0;31mTypeError\u001b[0m: Node() takes no arguments"
          ]
        }
      ]
    },
    {
      "cell_type": "code",
      "source": [
        "class node:\n",
        "  def _init_(self,state,parent,actions,totalcost):\n",
        "    self.state = state\n",
        "    self.parent = parent\n",
        "    self.actions = actions\n",
        "    self.totalcost = totalcost\n",
        "\n",
        "def actionSequence(graph,initialstate,goalstate):\n",
        "  solution = [goalstate]\n",
        "  currentparent = graph[goalstate].parent\n",
        "  \n",
        "  while currentparent != None:\n",
        "    \n",
        "    solution.append(currentparent)\n",
        "    currentparent = graph[currentparent].parent\n",
        "\n",
        "  solution.reverse()\n",
        "  return solution\n",
        "\n",
        "def dfs(initialstate,goalstate):\n",
        "  \n",
        "  graph = {'A': node('A',None,['B','C','E'],None),\n",
        "           'B': node('B',None,['A','D','E'],None),\n",
        "           'C': node('C',None,['A','F','G'],None),\n",
        "           'D': node('D',None,['B','E'],None),\n",
        "           'E': node('E',None,['A','B','D'],None),\n",
        "           'F': node('F',None,['C'],None),\n",
        "           'G': node('G',None,['C'],None)\n",
        "          }\n",
        "  frontier = [initialstate]\n",
        "  explored = []\n",
        "  currentChildren = 0\n",
        "  while frontier:\n",
        "    currentnode = frontier.pop(len(frontier)-1)\n",
        "    explored.append(currentnode)\n",
        "    for child in graph[currentnode].actions:\n",
        "      if child not in frontier and child not in explored:\n",
        "        graph[child].parent = currentnode\n",
        "        if graph[child].state == goalstate:\n",
        "          # print(explored)\n",
        "          return actionSequence(graph,initialstate,goalstate)\n",
        "        currentChildren=currentChildren+1\n",
        "        frontier.append(child)\n",
        "  if curentChildren == 0 :\n",
        "    del explored[len(explored)-1]\n",
        "solution = dfs('A','D')\n",
        "print(solution)"
      ],
      "metadata": {
        "colab": {
          "base_uri": "https://localhost:8080/",
          "height": 132
        },
        "id": "J1rCjNIBbwF6",
        "outputId": "45635f95-92da-423d-e679-ab9ab3507a8a"
      },
      "execution_count": null,
      "outputs": [
        {
          "output_type": "error",
          "ename": "IndentationError",
          "evalue": "ignored",
          "traceback": [
            "\u001b[0;36m  File \u001b[0;32m\"<ipython-input-11-2e909f8a9a16>\"\u001b[0;36m, line \u001b[0;32m43\u001b[0m\n\u001b[0;31m    frontier.append(child)\u001b[0m\n\u001b[0m    ^\u001b[0m\n\u001b[0;31mIndentationError\u001b[0m\u001b[0;31m:\u001b[0m unexpected indent\n"
          ]
        }
      ]
    },
    {
      "cell_type": "code",
      "source": [
        "class node:\n",
        "  def _init_(self,state,parent,actions,totalcost):\n",
        "    self.state = state\n",
        "    self.parent = parent\n",
        "    self.actions = actions\n",
        "    self.totalcost = totalcost\n",
        "graph = {'A': node('A',None,['B','C','E'],None),\n",
        "        'B': node('B',None,['A','D','E'],None),\n",
        "        'C': node('C',None,['A','F','G'],None),\n",
        "        'D': node('D',None,['B','E'],None),\n",
        "        'E': node('E',None,['A','B','D'],None),\n",
        "        'F': node('F',None,['C'],None),\n",
        "        'G': node('G',None,['C'],None)}"
      ],
      "metadata": {
        "colab": {
          "base_uri": "https://localhost:8080/",
          "height": 236
        },
        "id": "Cb9qBd-Vb802",
        "outputId": "de819c30-dddf-4b75-c86e-a32fee19d8db"
      },
      "execution_count": null,
      "outputs": [
        {
          "output_type": "error",
          "ename": "TypeError",
          "evalue": "ignored",
          "traceback": [
            "\u001b[0;31m---------------------------------------------------------------------------\u001b[0m",
            "\u001b[0;31mTypeError\u001b[0m                                 Traceback (most recent call last)",
            "\u001b[0;32m<ipython-input-16-d42514313b4d>\u001b[0m in \u001b[0;36m<cell line: 7>\u001b[0;34m()\u001b[0m\n\u001b[1;32m      5\u001b[0m     \u001b[0mself\u001b[0m\u001b[0;34m.\u001b[0m\u001b[0mactions\u001b[0m \u001b[0;34m=\u001b[0m \u001b[0mactions\u001b[0m\u001b[0;34m\u001b[0m\u001b[0;34m\u001b[0m\u001b[0m\n\u001b[1;32m      6\u001b[0m     \u001b[0mself\u001b[0m\u001b[0;34m.\u001b[0m\u001b[0mtotalcost\u001b[0m \u001b[0;34m=\u001b[0m \u001b[0mtotalcost\u001b[0m\u001b[0;34m\u001b[0m\u001b[0;34m\u001b[0m\u001b[0m\n\u001b[0;32m----> 7\u001b[0;31m graph = {'A': node('A',None,['B','C','E'],None),\n\u001b[0m\u001b[1;32m      8\u001b[0m         \u001b[0;34m'B'\u001b[0m\u001b[0;34m:\u001b[0m \u001b[0mnode\u001b[0m\u001b[0;34m(\u001b[0m\u001b[0;34m'B'\u001b[0m\u001b[0;34m,\u001b[0m\u001b[0;32mNone\u001b[0m\u001b[0;34m,\u001b[0m\u001b[0;34m[\u001b[0m\u001b[0;34m'A'\u001b[0m\u001b[0;34m,\u001b[0m\u001b[0;34m'D'\u001b[0m\u001b[0;34m,\u001b[0m\u001b[0;34m'E'\u001b[0m\u001b[0;34m]\u001b[0m\u001b[0;34m,\u001b[0m\u001b[0;32mNone\u001b[0m\u001b[0;34m)\u001b[0m\u001b[0;34m,\u001b[0m\u001b[0;34m\u001b[0m\u001b[0;34m\u001b[0m\u001b[0m\n\u001b[1;32m      9\u001b[0m         \u001b[0;34m'C'\u001b[0m\u001b[0;34m:\u001b[0m \u001b[0mnode\u001b[0m\u001b[0;34m(\u001b[0m\u001b[0;34m'C'\u001b[0m\u001b[0;34m,\u001b[0m\u001b[0;32mNone\u001b[0m\u001b[0;34m,\u001b[0m\u001b[0;34m[\u001b[0m\u001b[0;34m'A'\u001b[0m\u001b[0;34m,\u001b[0m\u001b[0;34m'F'\u001b[0m\u001b[0;34m,\u001b[0m\u001b[0;34m'G'\u001b[0m\u001b[0;34m]\u001b[0m\u001b[0;34m,\u001b[0m\u001b[0;32mNone\u001b[0m\u001b[0;34m)\u001b[0m\u001b[0;34m,\u001b[0m\u001b[0;34m\u001b[0m\u001b[0;34m\u001b[0m\u001b[0m\n",
            "\u001b[0;31mTypeError\u001b[0m: node() takes no arguments"
          ]
        }
      ]
    },
    {
      "cell_type": "code",
      "source": [],
      "metadata": {
        "id": "2NL0Wt3ulAMB"
      },
      "execution_count": null,
      "outputs": []
    },
    {
      "cell_type": "code",
      "source": [
        "def actionSequence(graph,initialstate,goalstate):\n",
        "  solution = [goalstate]\n",
        "  currentparent = graph[goalstate].parent\n",
        "  \n",
        "  while currentparent != None:\n",
        "    \n",
        "    solution.append(currentparent)\n",
        "    currentparent = graph[currentparent].parent\n",
        "\n",
        "  solution.reverse()\n",
        "  return solution\n",
        "\n",
        "def dfs(initialstate,goalstate):\n",
        "  \n",
        "  graph = {'A': node('A',None,['B','C','E'],None),\n",
        "           'B': node('B',None,['A','D','E'],None),\n",
        "           'C': node('C',None,['A','F','G'],None),\n",
        "           'D': node('D',None,['B','E'],None),\n",
        "           'E': node('E',None,['A','B','D'],None),\n",
        "           'F': node('F',None,['C'],None),\n",
        "           'G': node('G',None,['C'],None)\n",
        "          }\n",
        "  frontier = [initialstate]\n",
        "  explored = []\n",
        "  while frontier:\n",
        "    currentnode = frontier.pop(0)\n",
        "    explored.append(currentnode)\n",
        "    for child in graph[currentnode].actions:\n",
        "      if child not in frontier and child not in explored:\n",
        "        graph[child].parent = currentnode\n",
        "        if graph[child].state == goalstate:\n",
        "          return actionSequence(graph,initialstate,goalstate)\n",
        "        frontier.append(child)\n",
        "solution = dfs('D','C')\n",
        "print(solution)"
      ],
      "metadata": {
        "id": "2yNJ_bcOg3Yp"
      },
      "execution_count": null,
      "outputs": []
    },
    {
      "cell_type": "code",
      "source": [
        "import heapq\n",
        "\n",
        "# Define the graph as a dictionary\n",
        "graph = {\n",
        "    'Arad': [('Zerind', 75), ('Timisoara', 118), ('Sibiu', 140)],\n",
        "    'Zerind': [('Oradea', 71), ('Arad', 75)],\n",
        "    'Oradea': [('Sibiu', 151), ('Zerind', 71)],\n",
        "    'Timisoara': [('Arad', 118), ('Lugoj', 111)],\n",
        "    'Lugoj': [('Timisoara', 111), ('Mehadia', 70)],\n",
        "    'Mehadia': [('Lugoj', 70), ('Drobeta', 75)],\n",
        "    'Drobeta': [('Mehadia', 75), ('Craiova', 120)],\n",
        "    'Sibiu': [('Arad', 140), ('Oradea', 151), ('Fagaras', 99), ('Rimnicu Vilcea', 80)],\n",
        "    'Fagaras': [('Sibiu', 99), ('Bucharest', 211)],\n",
        "    'Rimnicu Vilcea': [('Sibiu', 80), ('Craiova', 146), ('Pitesti', 97)],\n",
        "    'Craiova': [('Drobeta', 120), ('Rimnicu Vilcea', 146), ('Pitesti', 138)],\n",
        "    'Pitesti': [('Rimnicu Vilcea', 97), ('Craiova', 138), ('Bucharest', 101)],\n",
        "    'Bucharest': [('Fagaras', 211), ('Pitesti', 101)]\n",
        "}\n",
        "\n",
        "def uniform_cost_search(start, goal):\n",
        "    # Keep track of visited nodes and their distances from the start node\n",
        "    visited = {start: 0}\n",
        "    # Keep track of the nodes in the path from the start node to the current node\n",
        "    path = {start: [start]}\n",
        "    # Initialize the heap with the start node and its cost\n",
        "    heap = [(0, start)]\n",
        "    \n",
        "    while heap:\n",
        "        # Pop the node with the lowest cost from the heap\n",
        "        (cost, current) = heapq.heappop(heap)\n",
        "        \n",
        "        # If we have reached the goal node, return the path\n",
        "        if current == goal:\n",
        "            return path[current]\n",
        "        \n",
        "        # Loop through the neighboring nodes\n",
        "        for (neighbor, neighbor_cost) in graph[current]:\n",
        "            # Calculate the new cost to reach the neighboring node\n",
        "            new_cost = visited[current] + neighbor_cost\n",
        "            \n",
        "            # If the neighboring node hasn't been visited yet or the new cost is lower than the current cost\n",
        "            if neighbor not in visited or new_cost < visited[neighbor]:\n",
        "                # Update the visited dictionary and the path dictionary\n",
        "                visited[neighbor] = new_cost\n",
        "                path[neighbor] = path[current] + [neighbor]\n",
        "                # Add the neighboring node and its cost to the heap\n",
        "                heapq.heappush(heap, (new_cost, neighbor))\n",
        "                \n",
        "\n",
        "    return None\n",
        "\n",
        "\n",
        "start = 'Arad'\n",
        "goal = 'Bucharest'\n",
        "path = uniform_cost_search(start, goal)\n",
        "print(path)"
      ],
      "metadata": {
        "colab": {
          "base_uri": "https://localhost:8080/"
        },
        "id": "2pJq594tdyI9",
        "outputId": "eaf4ad68-4dea-4c53-c2b6-b8ef03c52667"
      },
      "execution_count": null,
      "outputs": [
        {
          "output_type": "stream",
          "name": "stdout",
          "text": [
            "['Arad', 'Sibiu', 'Rimnicu Vilcea', 'Pitesti', 'Bucharest']\n"
          ]
        }
      ]
    },
    {
      "cell_type": "markdown",
      "source": [],
      "metadata": {
        "id": "oWBUv9VoZsda"
      }
    },
    {
      "cell_type": "markdown",
      "source": [],
      "metadata": {
        "id": "zikHHUqAZwOE"
      }
    },
    {
      "cell_type": "code",
      "source": [
        "from queue import PriorityQueue\n",
        "\n",
        "# Define the tree as a dictionary of dictionaries\n",
        "tree = {'A': {'B': 1, 'C': 3},\n",
        "        'B': {'D': 2, 'E': 1},\n",
        "        'C': {'F': 4},\n",
        "        'D': {},\n",
        "        'E': {'G': 3},\n",
        "        'F': {},\n",
        "        'G': {}}\n",
        "\n",
        "def uniform_cost_search(tree, start, goal):\n",
        "    frontier = PriorityQueue()\n",
        "    frontier.put((0, start))\n",
        "    explored = []\n",
        "    path = {}\n",
        "    path[start] = None\n",
        "\n",
        "    while not frontier.empty():\n",
        "        cost, current_node = frontier.get()\n",
        "        explored.append(current_node)\n",
        "\n",
        "        if current_node == goal:\n",
        "            final_path = []\n",
        "            while current_node in path:\n",
        "                final_path.append(current_node)\n",
        "                current_node = path[current_node]\n",
        "            final_path.reverse()\n",
        "            return final_path\n",
        "\n",
        "        for neighbor, neighbor_cost in tree[current_node].items():\n",
        "            if neighbor not in explored:\n",
        "                new_cost = cost + neighbor_cost\n",
        "                if neighbor not in [node[1] for node in frontier.queue]:\n",
        "                    frontier.put((new_cost, neighbor))\n",
        "                    path[neighbor] = current_node\n",
        "                elif new_cost < [node[0] for node in frontier.queue if node[1] == neighbor][0]:\n",
        "                    frontier.get([node for node in frontier.queue if node[1] == neighbor][0])\n",
        "                    frontier.put((new_cost, neighbor))\n",
        "                    path[neighbor] = current_node\n",
        "\n",
        "    return None\n",
        "\n",
        "# Test the uniform cost search algorithm\n",
        "start_node = 'C'\n",
        "goal_node = 'B'\n",
        "result_path = uniform_cost_search(tree, start_node, goal_node)\n",
        "\n",
        "if result_path:\n",
        "    print(\"The minimum cost path from\", start_node, \"to\", goal_node, \"is:\")\n",
        "    print(result_path)\n",
        "    print(\"The total cost is:\", sum(tree[result_path[i]][result_path[i+1]] for i in range(len(result_path)-1)))\n",
        "else:\n",
        "    print(\"Goal not reachable from the starting node\")"
      ],
      "metadata": {
        "colab": {
          "base_uri": "https://localhost:8080/"
        },
        "id": "XTgPMKvllC6j",
        "outputId": "5d0cd3bb-b976-4737-e7e3-29a284518db0"
      },
      "execution_count": null,
      "outputs": [
        {
          "output_type": "stream",
          "name": "stdout",
          "text": [
            "Goal not reachable from the starting node\n"
          ]
        }
      ]
    },
    {
      "cell_type": "code",
      "source": [],
      "metadata": {
        "id": "jjqUuk1AlcTW"
      },
      "execution_count": null,
      "outputs": []
    }
  ]
}